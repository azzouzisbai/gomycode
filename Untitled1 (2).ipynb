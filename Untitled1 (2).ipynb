{
  "nbformat": 4,
  "nbformat_minor": 0,
  "metadata": {
    "colab": {
      "name": "Untitled1.ipynb",
      "provenance": [],
      "collapsed_sections": []
    },
    "kernelspec": {
      "name": "python3",
      "display_name": "Python 3"
    },
    "language_info": {
      "name": "python"
    }
  },
  "cells": [
    {
      "cell_type": "code",
      "metadata": {
        "colab": {
          "base_uri": "https://localhost:8080/"
        },
        "id": "ViuCTEuZw6VJ",
        "outputId": "8ec4f5ec-b50e-4081-e631-1534773a0ec7"
      },
      "source": [
        "firstname=input(\"enter your first name: \")\n",
        "lastname=input(\"enter your last name: \")\n",
        "\n",
        "print(\"hello\"+\" \"+ lastname[::-1] +\" \"+firstname[::-1])"
      ],
      "execution_count": 7,
      "outputs": [
        {
          "output_type": "stream",
          "name": "stdout",
          "text": [
            "enter your first name: azzouzi\n",
            "enter your last name: sbai\n",
            "hello iabs izuozza\n"
          ]
        }
      ]
    },
    {
      "cell_type": "code",
      "metadata": {
        "colab": {
          "base_uri": "https://localhost:8080/"
        },
        "id": "pBQ5yfwy1AmL",
        "outputId": "6e24f4fc-2122-45bc-da87-9460f06645b5"
      },
      "source": [
        "x=int(input(\"inter a number: \"))\n",
        "n1=int(\"%x\" % x)\n",
        "n2=int(\"%x%x\" % (x,x))\n",
        "n3=int(\"%x%x%x\" % (x,x,x))\n",
        "print(n1 +n2 +n3)"
      ],
      "execution_count": 2,
      "outputs": [
        {
          "output_type": "stream",
          "name": "stdout",
          "text": [
            "inter a number: 5\n",
            "615\n"
          ]
        }
      ]
    },
    {
      "cell_type": "code",
      "metadata": {
        "colab": {
          "base_uri": "https://localhost:8080/"
        },
        "id": "VNDHJjS7kfnS",
        "outputId": "37853e00-b8ec-4ad2-d8ae-ce03e358733f"
      },
      "source": [
        "number=int(input(\"7ot ra9m: \"))\n",
        "if (number % 2) ==0:\n",
        "  print(\"is even number\")\n",
        "else:\n",
        "  print(\"is odd number\")  "
      ],
      "execution_count": 9,
      "outputs": [
        {
          "output_type": "stream",
          "name": "stdout",
          "text": [
            "7ot ra9m: 7\n",
            "is odd number\n"
          ]
        }
      ]
    },
    {
      "cell_type": "code",
      "metadata": {
        "colab": {
          "base_uri": "https://localhost:8080/"
        },
        "id": "C1P62DE0n7Ah",
        "outputId": "e46a0cfd-e825-4e67-c47c-1bfc74cc6e46"
      },
      "source": [
        "for x in range (2000,3201):\n",
        "  if x %7==0 and x%5!=0:\n",
        "    print(x,end=\" \")"
      ],
      "execution_count": 11,
      "outputs": [
        {
          "output_type": "stream",
          "name": "stdout",
          "text": [
            "2002 2009 2016 2023 2037 2044 2051 2058 2072 2079 2086 2093 2107 2114 2121 2128 2142 2149 2156 2163 2177 2184 2191 2198 2212 2219 2226 2233 2247 2254 2261 2268 2282 2289 2296 2303 2317 2324 2331 2338 2352 2359 2366 2373 2387 2394 2401 2408 2422 2429 2436 2443 2457 2464 2471 2478 2492 2499 2506 2513 2527 2534 2541 2548 2562 2569 2576 2583 2597 2604 2611 2618 2632 2639 2646 2653 2667 2674 2681 2688 2702 2709 2716 2723 2737 2744 2751 2758 2772 2779 2786 2793 2807 2814 2821 2828 2842 2849 2856 2863 2877 2884 2891 2898 2912 2919 2926 2933 2947 2954 2961 2968 2982 2989 2996 3003 3017 3024 3031 3038 3052 3059 3066 3073 3087 3094 3101 3108 3122 3129 3136 3143 3157 3164 3171 3178 3192 3199 "
          ]
        }
      ]
    },
    {
      "cell_type": "code",
      "metadata": {
        "colab": {
          "base_uri": "https://localhost:8080/"
        },
        "id": "DreBlm3Hbll5",
        "outputId": "2952515e-8fbc-42f8-8d3b-c3a62e19444a"
      },
      "source": [
        "x=int(input())\n",
        "s=1\n",
        "for i in range(x):\n",
        "  s+=s*i\n",
        "print(s) "
      ],
      "execution_count": 13,
      "outputs": [
        {
          "output_type": "stream",
          "name": "stdout",
          "text": [
            "4\n",
            "24\n"
          ]
        }
      ]
    },
    {
      "cell_type": "code",
      "metadata": {
        "colab": {
          "base_uri": "https://localhost:8080/"
        },
        "id": "bZ7t9Q1efKiD",
        "outputId": "1293224e-be47-4d91-db2b-75d779eb6752"
      },
      "source": [
        "ch=input()\n",
        "result=\" \"\n",
        "for i in range (len(ch)):\n",
        "  if i%2==0:\n",
        "      result=result+ch[i]\n",
        "print(result)"
      ],
      "execution_count": 18,
      "outputs": [
        {
          "output_type": "stream",
          "name": "stdout",
          "text": [
            "hello team\n",
            " hlota\n"
          ]
        }
      ]
    },
    {
      "cell_type": "code",
      "metadata": {
        "colab": {
          "base_uri": "https://localhost:8080/"
        },
        "id": "We7uAYZQPTCz",
        "outputId": "84a25250-cca3-4ee6-cfa2-a6a459fcc13a"
      },
      "source": [
        "a=int(input(\"price\"))\n",
        "if (a>=500):\n",
        "  print(a*0.5)\n",
        "elif (a<500 and a>200):  \n",
        "  print(a*0.3)\n",
        "else : \n",
        "  print(a*0.1)\n"
      ],
      "execution_count": 24,
      "outputs": [
        {
          "output_type": "stream",
          "name": "stdout",
          "text": [
            "price190\n",
            "19.0\n"
          ]
        }
      ]
    }
  ]
}