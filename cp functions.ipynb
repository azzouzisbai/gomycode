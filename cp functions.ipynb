{
  "nbformat": 4,
  "nbformat_minor": 0,
  "metadata": {
    "colab": {
      "name": "Untitled1.ipynb",
      "provenance": [],
      "collapsed_sections": []
    },
    "kernelspec": {
      "name": "python3",
      "display_name": "Python 3"
    },
    "language_info": {
      "name": "python"
    }
  },
  "cells": [
    {
      "cell_type": "code",
      "metadata": {
        "colab": {
          "base_uri": "https://localhost:8080/"
        },
        "id": "bb38235x0Cka",
        "outputId": "24fe0c39-8e45-4d01-adce-a020bb6ef309"
      },
      "source": [
        "def max (a,b,c):\n",
        "  if a>b and a>c:\n",
        "    return a\n",
        "  elif b>a and b>c:\n",
        "    return b \n",
        "  else:\n",
        "    return c \n",
        "max(14,25,36)    "
      ],
      "execution_count": null,
      "outputs": [
        {
          "output_type": "execute_result",
          "data": {
            "text/plain": [
              "36"
            ]
          },
          "metadata": {},
          "execution_count": 31
        }
      ]
    },
    {
      "cell_type": "code",
      "metadata": {
        "colab": {
          "base_uri": "https://localhost:8080/"
        },
        "id": "1ymfuPfT4jHR",
        "outputId": "352554b1-e9a6-4b5b-f155-d384b4ebebe4"
      },
      "source": [
        "def myfunc(a,b):\n",
        "  return a+b , a-b\n",
        "\n",
        "myfunc(5,4)"
      ],
      "execution_count": null,
      "outputs": [
        {
          "output_type": "execute_result",
          "data": {
            "text/plain": [
              "(9, 1)"
            ]
          },
          "metadata": {},
          "execution_count": 44
        }
      ]
    },
    {
      "cell_type": "code",
      "metadata": {
        "colab": {
          "base_uri": "https://localhost:8080/",
          "height": 129
        },
        "id": "1BVAT682_Jsi",
        "outputId": "5c891946-dfba-411c-90f7-79dd63acfd0f"
      },
      "source": [
        "def myfunc(l):\n",
        "  s=0\n",
        "  for i in l:\n",
        "    s=s+i\n",
        "\n",
        "  return s \n",
        "\n",
        "def mul(c):\n",
        "  s=1\n",
        "  for i in c:\n",
        "    s=s*i\n",
        "  return s  \n",
        "\n",
        "l=[10,5,4,2,3]\n",
        "c=[2,5,3,4,6]\n",
        "myfunc(l)\n",
        "mul(c)\n",
        "  if i%2==0:\n",
        "    s=s+i\n",
        "  return s \n",
        "myfunc(l)  \n"
      ],
      "execution_count": null,
      "outputs": [
        {
          "output_type": "error",
          "ename": "IndentationError",
          "evalue": "ignored",
          "traceback": [
            "\u001b[0;36m  File \u001b[0;32m\"<ipython-input-69-f4be52fbf197>\"\u001b[0;36m, line \u001b[0;32m18\u001b[0m\n\u001b[0;31m    if i%2==0:\u001b[0m\n\u001b[0m    ^\u001b[0m\n\u001b[0;31mIndentationError\u001b[0m\u001b[0;31m:\u001b[0m unexpected indent\n"
          ]
        }
      ]
    },
    {
      "cell_type": "code",
      "metadata": {
        "colab": {
          "base_uri": "https://localhost:8080/"
        },
        "id": "u5jzqLdlxj3K",
        "outputId": "15b6b076-7c6a-48fa-a254-45acbb4013af"
      },
      "source": [
        "items=[n for n in input().split('-')]\n",
        "items.sort()\n",
        "print('-'.join(items))"
      ],
      "execution_count": 1,
      "outputs": [
        {
          "output_type": "stream",
          "name": "stdout",
          "text": [
            "green-red-yellow-black-white\n",
            "black-green-red-white-yellow\n"
          ]
        }
      ]
    },
    {
      "cell_type": "code",
      "metadata": {
        "colab": {
          "base_uri": "https://localhost:8080/"
        },
        "id": "bjjQs5r5y0vv",
        "outputId": "1f79d8f9-5c2c-4963-e130-f0ff51db5bcf"
      },
      "source": [
        "import math\n",
        "\n",
        "numbers = input(\"Provide D: \")\n",
        "numbers = numbers.split(',')\n",
        "\n",
        "result_list = []\n",
        "for D in numbers:\n",
        "    Q = round(math.sqrt(2 * 50 * int(D) / 30))\n",
        "    result_list.append(Q)\n",
        "\n",
        "print(result_list)"
      ],
      "execution_count": 2,
      "outputs": [
        {
          "output_type": "stream",
          "name": "stdout",
          "text": [
            "Provide D: 100\n",
            "[18]\n"
          ]
        }
      ]
    },
    {
      "cell_type": "code",
      "metadata": {
        "id": "AvTfC4C-y044"
      },
      "source": [
        ""
      ],
      "execution_count": null,
      "outputs": []
    }
  ]
}