{
  "nbformat": 4,
  "nbformat_minor": 0,
  "metadata": {
    "colab": {
      "name": "Untitled1.ipynb",
      "provenance": [],
      "collapsed_sections": []
    },
    "kernelspec": {
      "name": "python3",
      "display_name": "Python 3"
    },
    "language_info": {
      "name": "python"
    }
  },
  "cells": [
    {
      "cell_type": "code",
      "metadata": {
        "id": "Fp3aOGzHnY6l"
      },
      "source": [
        ""
      ],
      "execution_count": null,
      "outputs": []
    },
    {
      "cell_type": "code",
      "metadata": {
        "colab": {
          "base_uri": "https://localhost:8080/"
        },
        "id": "_B6C9ENs-j3K",
        "outputId": "a6d8461e-aecf-4896-88d3-d63788142260"
      },
      "source": [
        "s=[2,3,6]\n",
        "result=1\n",
        "for x in s:\n",
        "  result=result*x\n",
        "print(result)  \n"
      ],
      "execution_count": null,
      "outputs": [
        {
          "output_type": "stream",
          "name": "stdout",
          "text": [
            "36\n"
          ]
        }
      ]
    },
    {
      "cell_type": "code",
      "metadata": {
        "colab": {
          "base_uri": "https://localhost:8080/"
        },
        "id": "lqcZ93FSqskP",
        "outputId": "aca7d2b8-acbd-452f-e8c1-d804d3c86d43"
      },
      "source": [
        "def takeSecond(elem):\n",
        "  return elem[1]\n",
        "  azzouzi: [(2, 5), (1, 2), (4, 4), (2, 3), (2, 1)]\n",
        "azzouzi.sort(key=takeSecond)\n",
        "print('sort list:',azzouzi)"
      ],
      "execution_count": null,
      "outputs": [
        {
          "output_type": "stream",
          "name": "stdout",
          "text": [
            "sort list: [(4, 1), (2, 2), (1, 3), (3, 4)]\n"
          ]
        }
      ]
    },
    {
      "cell_type": "code",
      "metadata": {
        "colab": {
          "base_uri": "https://localhost:8080/"
        },
        "id": "XQAQnVqiu7Tn",
        "outputId": "5cddbe96-8801-4111-e968-12a849f8f29d"
      },
      "source": [
        "def takeSecond(n): return n[1]\n",
        "\n",
        "def sort_list_takeSecond(tuples):\n",
        "  return sorted(tuples, key=takeSecond)\n",
        "\n",
        "print(sort_list_takeSecond([(2, 5), (1, 2), (4, 4), (2, 3), (2, 1)]))"
      ],
      "execution_count": null,
      "outputs": [
        {
          "output_type": "stream",
          "name": "stdout",
          "text": [
            "[(2, 1), (1, 2), (2, 3), (4, 4), (2, 5)]\n"
          ]
        }
      ]
    },
    {
      "cell_type": "code",
      "metadata": {
        "colab": {
          "base_uri": "https://localhost:8080/"
        },
        "id": "TlY4Upv2wHpX",
        "outputId": "2da13acd-8141-4651-a207-b413b9ef3389"
      },
      "source": [
        "from collections import Counter\n",
        "d1 = {'a': 100, 'b': 200, 'c':300}\n",
        "d2 = {'a': 300, 'b': 200, 'd':400}\n",
        "Q= Counter(d1) + Counter(d2)\n",
        "print(Q)"
      ],
      "execution_count": null,
      "outputs": [
        {
          "output_type": "stream",
          "name": "stdout",
          "text": [
            "Counter({'a': 400, 'b': 400, 'd': 400, 'c': 300})\n"
          ]
        }
      ]
    },
    {
      "cell_type": "code",
      "metadata": {
        "colab": {
          "base_uri": "https://localhost:8080/",
          "height": 129
        },
        "id": "2reJiwg10jnl",
        "outputId": "eec781da-a51a-4c83-f858-69401ea1525d"
      },
      "source": [
        "def float(n): return n[1]\n",
        "def sort_list_float(tuples):\n",
        "  return sorted(tuples, key=float)\n",
        "\n",
        "print(sort_list_float(('item1', '12.20'), ('item2', '15.10'), ('item3', '24.5'))"
      ],
      "execution_count": null,
      "outputs": [
        {
          "output_type": "error",
          "ename": "SyntaxError",
          "evalue": "ignored",
          "traceback": [
            "\u001b[0;36m  File \u001b[0;32m\"<ipython-input-34-0fec2e68cd0d>\"\u001b[0;36m, line \u001b[0;32m5\u001b[0m\n\u001b[0;31m    print(sort_list_float(('item1', '12.20'), ('item2', '15.10'), ('item3', '24.5'))\u001b[0m\n\u001b[0m                                                                                    ^\u001b[0m\n\u001b[0;31mSyntaxError\u001b[0m\u001b[0;31m:\u001b[0m unexpected EOF while parsing\n"
          ]
        }
      ]
    },
    {
      "cell_type": "code",
      "metadata": {
        "colab": {
          "base_uri": "https://localhost:8080/"
        },
        "id": "zglswKRL2SzQ",
        "outputId": "bfc597a8-aed0-40fd-fc66-b45c1c54c09f"
      },
      "source": [
        "price = [('item1', '12.20'), ('item2', '15.10'), ('item3', '24.5')]\n",
        "print( sorted(price, key=lambda x: float(x[1]), reverse=True))"
      ],
      "execution_count": null,
      "outputs": [
        {
          "output_type": "stream",
          "name": "stdout",
          "text": [
            "[('item2', '15.10'), ('item3', '24.5'), ('item1', '12.20')]\n"
          ]
        }
      ]
    },
    {
      "cell_type": "code",
      "metadata": {
        "colab": {
          "base_uri": "https://localhost:8080/"
        },
        "id": "QWmFxeN24JQh",
        "outputId": "afc50642-9b51-40e2-9f84-81d9f19dcd9f"
      },
      "source": [
        "number = int(input(\"Type a number: \"))\n",
        "\n",
        "numberDict = {}\n",
        "for i in range(1, number+1):\n",
        "    numberDict[i] = i*i\n",
        "\n",
        "print(numberDict)"
      ],
      "execution_count": null,
      "outputs": [
        {
          "output_type": "stream",
          "name": "stdout",
          "text": [
            "Type a number: 8\n",
            "{1: 1, 2: 4, 3: 9, 4: 16, 5: 25, 6: 36, 7: 49, 8: 64}\n"
          ]
        }
      ]
    }
  ]
}